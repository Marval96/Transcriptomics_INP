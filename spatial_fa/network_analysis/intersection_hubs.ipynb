{
 "cells": [
  {
   "cell_type": "markdown",
   "id": "390b92a1",
   "metadata": {},
   "source": [
    "# **Intersection Analysis**\n",
    "\n",
    "This notebook contains the necessary code to identify the genes shared between **Xenium Human Immuno-Oncology**, the differentially expressed genes in the **Tumors FA**, and **Pablos's list proteins**."
   ]
  },
  {
   "cell_type": "code",
   "execution_count": 2,
   "id": "59bfd378",
   "metadata": {},
   "outputs": [],
   "source": [
    "# Libraries to import\n",
    "\n",
    "import pandas as pd\n",
    "import matplotlib.pyplot as plt\n",
    "from matplotlib_venn import venn2 \n",
    "from matplotlib_venn import venn3"
   ]
  },
  {
   "cell_type": "code",
   "execution_count": 17,
   "id": "7822ebf7",
   "metadata": {},
   "outputs": [
    {
     "data": {
      "text/html": [
       "<div>\n",
       "<style scoped>\n",
       "    .dataframe tbody tr th:only-of-type {\n",
       "        vertical-align: middle;\n",
       "    }\n",
       "\n",
       "    .dataframe tbody tr th {\n",
       "        vertical-align: top;\n",
       "    }\n",
       "\n",
       "    .dataframe thead th {\n",
       "        text-align: right;\n",
       "    }\n",
       "</style>\n",
       "<table border=\"1\" class=\"dataframe\">\n",
       "  <thead>\n",
       "    <tr style=\"text-align: right;\">\n",
       "      <th></th>\n",
       "      <th>Node</th>\n",
       "      <th>DegreeCentrality</th>\n",
       "      <th>BetweennessCentrality</th>\n",
       "      <th>ClosenessCentrality</th>\n",
       "      <th>EigenvectorCentrality</th>\n",
       "      <th>PageRank</th>\n",
       "      <th>DegreeCentrality_High</th>\n",
       "      <th>BetweennessCentrality_High</th>\n",
       "      <th>ClosenessCentrality_High</th>\n",
       "      <th>EigenvectorCentrality_High</th>\n",
       "      <th>PageRank_High</th>\n",
       "      <th>HubScore</th>\n",
       "      <th>IsHub</th>\n",
       "      <th>Community</th>\n",
       "    </tr>\n",
       "  </thead>\n",
       "  <tbody>\n",
       "    <tr>\n",
       "      <th>0</th>\n",
       "      <td>RPL4</td>\n",
       "      <td>0.477612</td>\n",
       "      <td>0.019612</td>\n",
       "      <td>0.610942</td>\n",
       "      <td>0.146122</td>\n",
       "      <td>0.010910</td>\n",
       "      <td>True</td>\n",
       "      <td>True</td>\n",
       "      <td>True</td>\n",
       "      <td>True</td>\n",
       "      <td>True</td>\n",
       "      <td>5</td>\n",
       "      <td>True</td>\n",
       "      <td>0</td>\n",
       "    </tr>\n",
       "    <tr>\n",
       "      <th>1</th>\n",
       "      <td>RPS18</td>\n",
       "      <td>0.472637</td>\n",
       "      <td>0.022993</td>\n",
       "      <td>0.603604</td>\n",
       "      <td>0.137165</td>\n",
       "      <td>0.011024</td>\n",
       "      <td>True</td>\n",
       "      <td>True</td>\n",
       "      <td>True</td>\n",
       "      <td>True</td>\n",
       "      <td>True</td>\n",
       "      <td>5</td>\n",
       "      <td>True</td>\n",
       "      <td>0</td>\n",
       "    </tr>\n",
       "    <tr>\n",
       "      <th>2</th>\n",
       "      <td>RPL23A</td>\n",
       "      <td>0.467662</td>\n",
       "      <td>0.028651</td>\n",
       "      <td>0.616564</td>\n",
       "      <td>0.141057</td>\n",
       "      <td>0.010896</td>\n",
       "      <td>True</td>\n",
       "      <td>True</td>\n",
       "      <td>True</td>\n",
       "      <td>True</td>\n",
       "      <td>True</td>\n",
       "      <td>5</td>\n",
       "      <td>True</td>\n",
       "      <td>0</td>\n",
       "    </tr>\n",
       "    <tr>\n",
       "      <th>3</th>\n",
       "      <td>RPS23</td>\n",
       "      <td>0.462687</td>\n",
       "      <td>0.024731</td>\n",
       "      <td>0.600000</td>\n",
       "      <td>0.134796</td>\n",
       "      <td>0.010793</td>\n",
       "      <td>True</td>\n",
       "      <td>True</td>\n",
       "      <td>True</td>\n",
       "      <td>True</td>\n",
       "      <td>True</td>\n",
       "      <td>5</td>\n",
       "      <td>True</td>\n",
       "      <td>0</td>\n",
       "    </tr>\n",
       "    <tr>\n",
       "      <th>4</th>\n",
       "      <td>RPL9</td>\n",
       "      <td>0.457711</td>\n",
       "      <td>0.015669</td>\n",
       "      <td>0.596439</td>\n",
       "      <td>0.139803</td>\n",
       "      <td>0.010541</td>\n",
       "      <td>True</td>\n",
       "      <td>True</td>\n",
       "      <td>True</td>\n",
       "      <td>True</td>\n",
       "      <td>True</td>\n",
       "      <td>5</td>\n",
       "      <td>True</td>\n",
       "      <td>0</td>\n",
       "    </tr>\n",
       "  </tbody>\n",
       "</table>\n",
       "</div>"
      ],
      "text/plain": [
       "     Node  DegreeCentrality  BetweennessCentrality  ClosenessCentrality  \\\n",
       "0    RPL4          0.477612               0.019612             0.610942   \n",
       "1   RPS18          0.472637               0.022993             0.603604   \n",
       "2  RPL23A          0.467662               0.028651             0.616564   \n",
       "3   RPS23          0.462687               0.024731             0.600000   \n",
       "4    RPL9          0.457711               0.015669             0.596439   \n",
       "\n",
       "   EigenvectorCentrality  PageRank  DegreeCentrality_High  \\\n",
       "0               0.146122  0.010910                   True   \n",
       "1               0.137165  0.011024                   True   \n",
       "2               0.141057  0.010896                   True   \n",
       "3               0.134796  0.010793                   True   \n",
       "4               0.139803  0.010541                   True   \n",
       "\n",
       "   BetweennessCentrality_High  ClosenessCentrality_High  \\\n",
       "0                        True                      True   \n",
       "1                        True                      True   \n",
       "2                        True                      True   \n",
       "3                        True                      True   \n",
       "4                        True                      True   \n",
       "\n",
       "   EigenvectorCentrality_High  PageRank_High  HubScore  IsHub  Community  \n",
       "0                        True           True         5   True          0  \n",
       "1                        True           True         5   True          0  \n",
       "2                        True           True         5   True          0  \n",
       "3                        True           True         5   True          0  \n",
       "4                        True           True         5   True          0  "
      ]
     },
     "execution_count": 17,
     "metadata": {},
     "output_type": "execute_result"
    }
   ],
   "source": [
    "# Hubsin FA HNSCC\n",
    "# Read genes from a file\n",
    "df_fascc = pd.read_csv(\"filtered_hubs_by_criteria_fa_hnscc.csv\")\n",
    "df_fascc.head()"
   ]
  },
  {
   "cell_type": "code",
   "execution_count": 18,
   "id": "46a5ddc4",
   "metadata": {},
   "outputs": [
    {
     "name": "stdout",
     "output_type": "stream",
     "text": [
      "Number of hubs in FA HNSCC: 553\n"
     ]
    }
   ],
   "source": [
    "# Hubs in FA HNSCC\n",
    "hubs_fa_hnscc = df_fascc['Node'].tolist()\n",
    "print(f\"Number of hubs in FA HNSCC: {len(hubs_fa_hnscc)}\")"
   ]
  },
  {
   "cell_type": "code",
   "execution_count": 19,
   "id": "c29901f7",
   "metadata": {},
   "outputs": [
    {
     "data": {
      "text/html": [
       "<div>\n",
       "<style scoped>\n",
       "    .dataframe tbody tr th:only-of-type {\n",
       "        vertical-align: middle;\n",
       "    }\n",
       "\n",
       "    .dataframe tbody tr th {\n",
       "        vertical-align: top;\n",
       "    }\n",
       "\n",
       "    .dataframe thead th {\n",
       "        text-align: right;\n",
       "    }\n",
       "</style>\n",
       "<table border=\"1\" class=\"dataframe\">\n",
       "  <thead>\n",
       "    <tr style=\"text-align: right;\">\n",
       "      <th></th>\n",
       "      <th>Node</th>\n",
       "      <th>DegreeCentrality</th>\n",
       "      <th>BetweennessCentrality</th>\n",
       "      <th>ClosenessCentrality</th>\n",
       "      <th>EigenvectorCentrality</th>\n",
       "      <th>PageRank</th>\n",
       "      <th>DegreeCentrality_High</th>\n",
       "      <th>BetweennessCentrality_High</th>\n",
       "      <th>ClosenessCentrality_High</th>\n",
       "      <th>EigenvectorCentrality_High</th>\n",
       "      <th>PageRank_High</th>\n",
       "      <th>HubScore</th>\n",
       "      <th>IsHub</th>\n",
       "      <th>Community</th>\n",
       "    </tr>\n",
       "  </thead>\n",
       "  <tbody>\n",
       "    <tr>\n",
       "      <th>0</th>\n",
       "      <td>CD4</td>\n",
       "      <td>0.446097</td>\n",
       "      <td>0.391475</td>\n",
       "      <td>0.587336</td>\n",
       "      <td>0.365614</td>\n",
       "      <td>0.048084</td>\n",
       "      <td>True</td>\n",
       "      <td>True</td>\n",
       "      <td>True</td>\n",
       "      <td>True</td>\n",
       "      <td>True</td>\n",
       "      <td>5</td>\n",
       "      <td>True</td>\n",
       "      <td>0</td>\n",
       "    </tr>\n",
       "    <tr>\n",
       "      <th>1</th>\n",
       "      <td>CCR7</td>\n",
       "      <td>0.234201</td>\n",
       "      <td>0.064676</td>\n",
       "      <td>0.471930</td>\n",
       "      <td>0.263560</td>\n",
       "      <td>0.022451</td>\n",
       "      <td>True</td>\n",
       "      <td>True</td>\n",
       "      <td>True</td>\n",
       "      <td>True</td>\n",
       "      <td>True</td>\n",
       "      <td>5</td>\n",
       "      <td>True</td>\n",
       "      <td>0</td>\n",
       "    </tr>\n",
       "    <tr>\n",
       "      <th>2</th>\n",
       "      <td>CD27</td>\n",
       "      <td>0.200743</td>\n",
       "      <td>0.059949</td>\n",
       "      <td>0.474427</td>\n",
       "      <td>0.224773</td>\n",
       "      <td>0.020400</td>\n",
       "      <td>True</td>\n",
       "      <td>True</td>\n",
       "      <td>True</td>\n",
       "      <td>True</td>\n",
       "      <td>True</td>\n",
       "      <td>5</td>\n",
       "      <td>True</td>\n",
       "      <td>0</td>\n",
       "    </tr>\n",
       "    <tr>\n",
       "      <th>3</th>\n",
       "      <td>GZMB</td>\n",
       "      <td>0.163569</td>\n",
       "      <td>0.026218</td>\n",
       "      <td>0.459044</td>\n",
       "      <td>0.217560</td>\n",
       "      <td>0.015554</td>\n",
       "      <td>True</td>\n",
       "      <td>True</td>\n",
       "      <td>True</td>\n",
       "      <td>True</td>\n",
       "      <td>True</td>\n",
       "      <td>5</td>\n",
       "      <td>True</td>\n",
       "      <td>0</td>\n",
       "    </tr>\n",
       "    <tr>\n",
       "      <th>4</th>\n",
       "      <td>TYROBP</td>\n",
       "      <td>0.159851</td>\n",
       "      <td>0.111081</td>\n",
       "      <td>0.419657</td>\n",
       "      <td>0.075251</td>\n",
       "      <td>0.022899</td>\n",
       "      <td>True</td>\n",
       "      <td>True</td>\n",
       "      <td>True</td>\n",
       "      <td>True</td>\n",
       "      <td>True</td>\n",
       "      <td>5</td>\n",
       "      <td>True</td>\n",
       "      <td>0</td>\n",
       "    </tr>\n",
       "  </tbody>\n",
       "</table>\n",
       "</div>"
      ],
      "text/plain": [
       "     Node  DegreeCentrality  BetweennessCentrality  ClosenessCentrality  \\\n",
       "0     CD4          0.446097               0.391475             0.587336   \n",
       "1    CCR7          0.234201               0.064676             0.471930   \n",
       "2    CD27          0.200743               0.059949             0.474427   \n",
       "3    GZMB          0.163569               0.026218             0.459044   \n",
       "4  TYROBP          0.159851               0.111081             0.419657   \n",
       "\n",
       "   EigenvectorCentrality  PageRank  DegreeCentrality_High  \\\n",
       "0               0.365614  0.048084                   True   \n",
       "1               0.263560  0.022451                   True   \n",
       "2               0.224773  0.020400                   True   \n",
       "3               0.217560  0.015554                   True   \n",
       "4               0.075251  0.022899                   True   \n",
       "\n",
       "   BetweennessCentrality_High  ClosenessCentrality_High  \\\n",
       "0                        True                      True   \n",
       "1                        True                      True   \n",
       "2                        True                      True   \n",
       "3                        True                      True   \n",
       "4                        True                      True   \n",
       "\n",
       "   EigenvectorCentrality_High  PageRank_High  HubScore  IsHub  Community  \n",
       "0                        True           True         5   True          0  \n",
       "1                        True           True         5   True          0  \n",
       "2                        True           True         5   True          0  \n",
       "3                        True           True         5   True          0  \n",
       "4                        True           True         5   True          0  "
      ]
     },
     "execution_count": 19,
     "metadata": {},
     "output_type": "execute_result"
    }
   ],
   "source": [
    "# Hubsin HNSCC\n",
    "# Read genes from a file\n",
    "df_hnscc = pd.read_csv(\"filtered_hubs_by_criteria_hscc_tcga.csv\")\n",
    "df_hnscc.head()"
   ]
  },
  {
   "cell_type": "code",
   "execution_count": 20,
   "id": "646af7f3",
   "metadata": {},
   "outputs": [
    {
     "name": "stdout",
     "output_type": "stream",
     "text": [
      "Number of hubs in HNSCC: 570\n"
     ]
    }
   ],
   "source": [
    "# Hubs in FA HNSCC\n",
    "hubs_hnscc = df_hnscc['Node'].tolist()\n",
    "print(f\"Number of hubs in HNSCC: {len(hubs_hnscc)}\")"
   ]
  },
  {
   "cell_type": "code",
   "execution_count": 21,
   "id": "471aef4a",
   "metadata": {},
   "outputs": [
    {
     "data": {
      "text/html": [
       "<div>\n",
       "<style scoped>\n",
       "    .dataframe tbody tr th:only-of-type {\n",
       "        vertical-align: middle;\n",
       "    }\n",
       "\n",
       "    .dataframe tbody tr th {\n",
       "        vertical-align: top;\n",
       "    }\n",
       "\n",
       "    .dataframe thead th {\n",
       "        text-align: right;\n",
       "    }\n",
       "</style>\n",
       "<table border=\"1\" class=\"dataframe\">\n",
       "  <thead>\n",
       "    <tr style=\"text-align: right;\">\n",
       "      <th></th>\n",
       "      <th>Gene</th>\n",
       "      <th>Ensemble ID</th>\n",
       "      <th>Num_Probesets</th>\n",
       "      <th>Codewords</th>\n",
       "      <th>Annotation</th>\n",
       "    </tr>\n",
       "  </thead>\n",
       "  <tbody>\n",
       "    <tr>\n",
       "      <th>0</th>\n",
       "      <td>A2M</td>\n",
       "      <td>ENSG00000175899</td>\n",
       "      <td>2</td>\n",
       "      <td>1</td>\n",
       "      <td>NaN</td>\n",
       "    </tr>\n",
       "    <tr>\n",
       "      <th>1</th>\n",
       "      <td>ACE2</td>\n",
       "      <td>ENSG00000130234</td>\n",
       "      <td>8</td>\n",
       "      <td>1</td>\n",
       "      <td>Hormone Processing</td>\n",
       "    </tr>\n",
       "    <tr>\n",
       "      <th>2</th>\n",
       "      <td>ACTA2</td>\n",
       "      <td>ENSG00000107796</td>\n",
       "      <td>8</td>\n",
       "      <td>1</td>\n",
       "      <td>Stromal Cell</td>\n",
       "    </tr>\n",
       "    <tr>\n",
       "      <th>3</th>\n",
       "      <td>ACTB</td>\n",
       "      <td>ENSG00000075624</td>\n",
       "      <td>2</td>\n",
       "      <td>1</td>\n",
       "      <td>Cytoskeleton</td>\n",
       "    </tr>\n",
       "    <tr>\n",
       "      <th>4</th>\n",
       "      <td>ADAM28</td>\n",
       "      <td>ENSG00000042980</td>\n",
       "      <td>4</td>\n",
       "      <td>1</td>\n",
       "      <td>B cell</td>\n",
       "    </tr>\n",
       "  </tbody>\n",
       "</table>\n",
       "</div>"
      ],
      "text/plain": [
       "     Gene      Ensemble ID  Num_Probesets  Codewords          Annotation\n",
       "0     A2M  ENSG00000175899              2          1                 NaN\n",
       "1    ACE2  ENSG00000130234              8          1  Hormone Processing\n",
       "2   ACTA2  ENSG00000107796              8          1        Stromal Cell\n",
       "3    ACTB  ENSG00000075624              2          1        Cytoskeleton\n",
       "4  ADAM28  ENSG00000042980              4          1              B cell"
      ]
     },
     "execution_count": 21,
     "metadata": {},
     "output_type": "execute_result"
    }
   ],
   "source": [
    "# Xenium genes\n",
    "# Read genes from a file\n",
    "df_xenium = pd.read_csv(\"Xenium_hIO_v1_metadata.csv\")\n",
    "df_xenium.head()"
   ]
  },
  {
   "cell_type": "code",
   "execution_count": 22,
   "id": "0410c0be",
   "metadata": {},
   "outputs": [
    {
     "name": "stdout",
     "output_type": "stream",
     "text": [
      "Number of genes in Xenium hIO v1: 380\n"
     ]
    }
   ],
   "source": [
    "xenium_genes = df_xenium['Gene'].tolist()\n",
    "print(f\"Number of genes in Xenium hIO v1: {len(xenium_genes)}\")"
   ]
  },
  {
   "cell_type": "code",
   "execution_count": 4,
   "id": "bca1d869",
   "metadata": {},
   "outputs": [
    {
     "name": "stdout",
     "output_type": "stream",
     "text": [
      "14\n"
     ]
    }
   ],
   "source": [
    "# Antibody list\n",
    "genes_ab = [\n",
    "    \"ITGB3\", \"MMP1\", \"MMP2\", \"MMP7\", \"MMP8\", \"MMP11\", \"MMP13\", \"MMP14\",\n",
    "    \"MMP17\", \"MMP19\", \"MMP28\", \"TIMP3\", \"COL1A1\", \"FN1\"\n",
    "]\n",
    "\n",
    "print(len(genes_ab))  # 14 genes"
   ]
  },
  {
   "cell_type": "code",
   "execution_count": 6,
   "id": "ef8e2d0a",
   "metadata": {},
   "outputs": [
    {
     "name": "stdout",
     "output_type": "stream",
     "text": [
      "10\n"
     ]
    }
   ],
   "source": [
    "# Protein list \n",
    "proteins = [\n",
    "    \"TIMP1\",\"COL1A1\",\"FAP1\",\"FN1\",\"VIM\",\"COL4A1\",\"MMP9\",\"PANCK\",\"TNC\",\"ACTA2\"\n",
    "]\n",
    "print(len(proteins))  # 10 proteins"
   ]
  },
  {
   "cell_type": "code",
   "execution_count": 27,
   "id": "6ff64b2d",
   "metadata": {},
   "outputs": [
    {
     "data": {
      "image/png": "[encoded data removed]",
      "text/plain": [
       "<Figure size 800x800 with 1 Axes>"
      ]
     },
     "metadata": {},
     "output_type": "display_data"
    }
   ],
   "source": [
    "# Make list to contains \n",
    "set1 = set(hubs_fa_hnscc)\n",
    "set2 = set(hubs_hnscc)\n",
    "set3 = set(xenium_genes)\n",
    "\n",
    "# PLot Venn diagram\n",
    "plt.figure(figsize=(8,8))\n",
    "venn3([set1, set2, set3], set_labels=('Hubs FA-HNSCC', 'Hubs HSCC-TCGA', 'Genes Xenium'), alpha=0.5)\n",
    "\n",
    "# Show plot\n",
    "# Save Plot\n",
    "plt.savefig(\"venn3_hubs_fa_hnscc_hubs_hnscc_genes_xenium.png\", dpi=600)\n",
    "#plt.title(\"Intersection of genes between the two methodologies and antibodies\")\n",
    "plt.show()"
   ]
  },
  {
   "cell_type": "code",
   "execution_count": null,
   "id": "54807f03",
   "metadata": {},
   "outputs": [
    {
     "name": "stdout",
     "output_type": "stream",
     "text": [
      "Intersection between Hubs FA-HNSCC and Hubs HSCC-TCGA: set()\n",
      "Intersection between Hubs FA-HNSCC and Genes Xenium: {'KRAS', 'BRAF', 'IL10', 'FGF2', 'ATM', 'CENPF', 'IL1B', 'IL1A', 'CD274', 'HIF1A', 'NF1', 'ITGA1', 'CDK1', 'MET', 'MKI67', 'PTEN', 'EGFR', 'NT5E', 'PIK3CA'}\n",
      "Intersection between Hubs HSCC-TCGA and Genes Xenium: {'NOTCH1', 'FOS', 'P2RX1', 'ITGAE', 'CD74', 'CXCR3', 'CXCR4', 'LCK', 'CTLA4', 'CCL2', 'CXCL9', 'FASLG', 'FLT3LG', 'PDCD1', 'FOXP3', 'IL2RB', 'CORO1A', 'TNFRSF17', 'CD40LG', 'SMAD3', 'CD19', 'NKG7', 'CDKN1A', 'CD79A', 'APOE', 'GZMK', 'CCL4', 'CCR5', 'CX3CR1', 'CD86', 'CD8A', 'CCL13', 'CXCR5', 'LAG3', 'TP53', 'CD2', 'CD38', 'PRF1', 'PLA2G7', 'KLRC1', 'CD3D', 'CD40', 'CD3E', 'JUN', 'CD27', 'ACTB', 'CTSD', 'SELL', 'CCR7', 'TGFB1', 'KLRK1', 'IRF8', 'AKT1', 'GZMB', 'IRF1', 'CD68', 'NOTCH3', 'FCGR3A', 'CD4', 'ERBB2', 'GZMH', 'CD247', 'MYD88', 'KLRB1', 'TBX21', 'IL10RA', 'SYK', 'TIGIT', 'PLEK', 'GZMA', 'CXCL10', 'CDKN2C'}\n",
      "Intersection between the three sets: set()\n"
     ]
    }
   ],
   "source": [
    "# Print intersections\n",
    "print(\"Intersection between Hubs FA-HNSCC and Hubs HSCC-TCGA:\", set1.intersection(set2))\n",
    "print(\"Intersection between Hubs FA-HNSCC and Xenium genes:\", set1.intersection(set3))\n",
    "print(\"Intersection between Hubs HSCC-TCGA and Xenium genes:\", set2.intersection(set3))\n",
    "print(\"Intersection between the three sets:\", set1.intersection(set2).intersection(set3))"
   ]
  },
  {
   "cell_type": "code",
   "execution_count": 29,
   "id": "5b5fbb03",
   "metadata": {},
   "outputs": [
    {
     "name": "stdout",
     "output_type": "stream",
     "text": [
      "Intersections saved to gene_intersections_HNSCC.txt\n"
     ]
    }
   ],
   "source": [
    "# Save a file with the intersection genes for each pair and the three sets in one file\n",
    "# and print a number of genes in each intersection\n",
    "with open(\"gene_intersections_HNSCC.txt\", \"w\") as f:\n",
    "    f.write(\"Intersection between Hubs FA-HNSCC and Hubs HSCC-TCGA:\\n\")\n",
    "    f.write(f\"Number of genes in intersection: {len(set1.intersection(set2))}\\n\")\n",
    "    f.write(\", \".join(set1.intersection(set2)) + \"\\n\\n\")\n",
    "    \n",
    "    \n",
    "    f.write(\"Intersection between Hubs FA-HNSCC and Xenium genes:\\n\")\n",
    "    f.write(f\"Number of genes in intersection: {len(set1.intersection(set3))}\\n\")\n",
    "    f.write(\", \".join(set1.intersection(set3)) + \"\\n\\n\")\n",
    "    \n",
    "    \n",
    "    f.write(\"Intersection between HSCC-TCGA and Xenium genes:\\n\")\n",
    "    f.write(f\"Number of genes in intersection: {len(set2.intersection(set3))}\\n\")\n",
    "    f.write(\", \".join(set2.intersection(set3)) + \"\\n\\n\")\n",
    "    \n",
    "    \n",
    "    f.write(\"Intersection between the three sets:\\n\")\n",
    "    f.write(f\"Number of genes in intersection: {len(set1.intersection(set2).intersection(set3))}\\n\")\n",
    "    f.write(\", \".join(set1.intersection(set2).intersection(set3)) + \"\\n\")\n",
    "    \n",
    "\n",
    "print(\"Intersections saved to gene_intersections_HNSCC.txt\")"
   ]
  },
  {
   "cell_type": "markdown",
   "id": "e2ae16e7",
   "metadata": {},
   "source": [
    "Session Info:"
   ]
  },
  {
   "cell_type": "code",
   "execution_count": 30,
   "id": "40952982",
   "metadata": {},
   "outputs": [
    {
     "name": "stdout",
     "output_type": "stream",
     "text": [
      "Python 3.12.1\n"
     ]
    }
   ],
   "source": [
    "# Información de la sesión\n",
    "!python --version"
   ]
  },
  {
   "cell_type": "code",
   "execution_count": 31,
   "id": "50743f46",
   "metadata": {},
   "outputs": [
    {
     "name": "stdout",
     "output_type": "stream",
     "text": [
      "Package                   Version\n",
      "------------------------- ---------\n",
      "adjustText                1.0.4\n",
      "asttokens                 2.4.1\n",
      "attrs                     25.3.0\n",
      "certifi                   2025.4.26\n",
      "charset-normalizer        3.4.2\n",
      "colorama                  0.4.6\n",
      "comm                      0.2.2\n",
      "contourpy                 1.2.0\n",
      "cycler                    0.12.1\n",
      "debugpy                   1.8.2\n",
      "decorator                 5.1.1\n",
      "docopt                    0.6.2\n",
      "et_xmlfile                2.0.0\n",
      "executing                 2.0.1\n",
      "fastjsonschema            2.21.1\n",
      "fonttools                 4.47.2\n",
      "ftpretty                  0.4.0\n",
      "goatools                  1.4.12\n",
      "gseapy                    1.1.8\n",
      "idna                      3.10\n",
      "ipykernel                 6.29.5\n",
      "ipython                   8.26.0\n",
      "jedi                      0.19.1\n",
      "joblib                    1.4.2\n",
      "jsonschema                4.23.0\n",
      "jsonschema-specifications 2025.4.1\n",
      "jupyter_client            8.6.2\n",
      "jupyter_core              5.7.2\n",
      "kiwisolver                1.4.5\n",
      "kneed                     0.8.5\n",
      "llvmlite                  0.44.0\n",
      "markdown-it-py            4.0.0\n",
      "matplotlib                3.8.2\n",
      "matplotlib-inline         0.1.7\n",
      "matplotlib-venn           1.1.1\n",
      "mdurl                     0.1.2\n",
      "narwhals                  1.39.1\n",
      "nbformat                  5.10.4\n",
      "nest-asyncio              1.6.0\n",
      "networkx                  3.4.2\n",
      "numba                     0.61.2\n",
      "numpy                     1.26.3\n",
      "openpyxl                  3.1.5\n",
      "packaging                 23.2\n",
      "pandas                    2.2.2\n",
      "parso                     0.8.4\n",
      "patsy                     1.0.1\n",
      "pillow                    10.2.0\n",
      "pip                       23.2.1\n",
      "platformdirs              4.2.2\n",
      "plotly                    6.1.0\n",
      "prompt_toolkit            3.0.47\n",
      "psutil                    6.0.0\n",
      "pure-eval                 0.2.2\n",
      "pydot                     4.0.1\n",
      "Pygments                  2.18.0\n",
      "pynndescent               0.5.13\n",
      "pyparsing                 3.1.1\n",
      "python-dateutil           2.8.2\n",
      "python-louvain            0.16\n",
      "pytz                      2024.1\n",
      "pywin32                   306\n",
      "pyzmq                     26.0.3\n",
      "referencing               0.36.2\n",
      "requests                  2.32.3\n",
      "rich                      14.1.0\n",
      "rpds-py                   0.25.0\n",
      "scikit-learn              1.5.2\n",
      "scipy                     1.12.0\n",
      "seaborn                   0.13.2\n",
      "setuptools                80.9.0\n",
      "six                       1.16.0\n",
      "stack-data                0.6.3\n",
      "statsmodels               0.14.5\n",
      "threadpoolctl             3.5.0\n",
      "tornado                   6.4.1\n",
      "tqdm                      4.67.1\n",
      "traitlets                 5.14.3\n",
      "typing_extensions         4.13.2\n",
      "tzdata                    2024.1\n",
      "umap-learn                0.5.7\n",
      "urllib3                   2.4.0\n",
      "wcwidth                   0.2.13\n",
      "xlsxwriter                3.2.5\n"
     ]
    },
    {
     "name": "stderr",
     "output_type": "stream",
     "text": [
      "\n",
      "[notice] A new release of pip is available: 23.2.1 -> 25.2\n",
      "[notice] To update, run: python.exe -m pip install --upgrade pip\n"
     ]
    }
   ],
   "source": [
    "!pip list"
   ]
  }
 ],
 "metadata": {
  "kernelspec": {
   "display_name": "Python 3",
   "language": "python",
   "name": "python3"
  },
  "language_info": {
   "codemirror_mode": {
    "name": "ipython",
    "version": 3
   },
   "file_extension": ".py",
   "mimetype": "text/x-python",
   "name": "python",
   "nbconvert_exporter": "python",
   "pygments_lexer": "ipython3",
   "version": "3.12.1"
  }
 },
 "nbformat": 4,
 "nbformat_minor": 5
}
