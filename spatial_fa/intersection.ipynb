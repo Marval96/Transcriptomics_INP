{
 "cells": [
  {
   "cell_type": "markdown",
   "id": "390b92a1",
   "metadata": {},
   "source": [
    "# **Intersection Analysis**\n",
    "\n",
    "This notebook contains the necessary code to identify the genes shared between **Xenium Human Immuno-Oncology**, the differentially expressed genes in the **Tumors FA**, and **Pablos's list proteins**."
   ]
  },
  {
   "cell_type": "code",
   "execution_count": 1,
   "id": "59bfd378",
   "metadata": {},
   "outputs": [],
   "source": [
    "# Libraries to import\n",
    "\n",
    "import pandas as pd\n",
    "import matplotlib.pyplot as plt\n",
    "from matplotlib_venn import venn2 \n",
    "from matplotlib_venn import venn3"
   ]
  },
  {
   "cell_type": "code",
   "execution_count": 2,
   "id": "7822ebf7",
   "metadata": {},
   "outputs": [
    {
     "data": {
      "text/html": [
       "<div>\n",
       "<style scoped>\n",
       "    .dataframe tbody tr th:only-of-type {\n",
       "        vertical-align: middle;\n",
       "    }\n",
       "\n",
       "    .dataframe tbody tr th {\n",
       "        vertical-align: top;\n",
       "    }\n",
       "\n",
       "    .dataframe thead th {\n",
       "        text-align: right;\n",
       "    }\n",
       "</style>\n",
       "<table border=\"1\" class=\"dataframe\">\n",
       "  <thead>\n",
       "    <tr style=\"text-align: right;\">\n",
       "      <th></th>\n",
       "      <th>gene_id</th>\n",
       "      <th>gene_symbol</th>\n",
       "      <th>baseMean</th>\n",
       "      <th>log2FoldChange</th>\n",
       "      <th>lfcSE</th>\n",
       "      <th>stat</th>\n",
       "      <th>pvalue</th>\n",
       "      <th>padj</th>\n",
       "    </tr>\n",
       "  </thead>\n",
       "  <tbody>\n",
       "    <tr>\n",
       "      <th>0</th>\n",
       "      <td>677767</td>\n",
       "      <td>SCARNA7</td>\n",
       "      <td>210.144719</td>\n",
       "      <td>13.371022</td>\n",
       "      <td>0.687271</td>\n",
       "      <td>19.455245</td>\n",
       "      <td>2.630926e-84</td>\n",
       "      <td>2.862155e-81</td>\n",
       "    </tr>\n",
       "    <tr>\n",
       "      <th>1</th>\n",
       "      <td>692148</td>\n",
       "      <td>SCARNA10</td>\n",
       "      <td>373.274780</td>\n",
       "      <td>13.213866</td>\n",
       "      <td>0.644258</td>\n",
       "      <td>20.510219</td>\n",
       "      <td>1.745079e-93</td>\n",
       "      <td>2.835368e-90</td>\n",
       "    </tr>\n",
       "    <tr>\n",
       "      <th>2</th>\n",
       "      <td>160419</td>\n",
       "      <td>C12orf50</td>\n",
       "      <td>45.452131</td>\n",
       "      <td>12.696482</td>\n",
       "      <td>0.709369</td>\n",
       "      <td>17.898287</td>\n",
       "      <td>1.216051e-71</td>\n",
       "      <td>6.435866e-69</td>\n",
       "    </tr>\n",
       "    <tr>\n",
       "      <th>3</th>\n",
       "      <td>6144</td>\n",
       "      <td>RPL21</td>\n",
       "      <td>323.541603</td>\n",
       "      <td>12.303302</td>\n",
       "      <td>0.435228</td>\n",
       "      <td>28.268630</td>\n",
       "      <td>8.401888e-176</td>\n",
       "      <td>8.226288e-172</td>\n",
       "    </tr>\n",
       "    <tr>\n",
       "      <th>4</th>\n",
       "      <td>8362</td>\n",
       "      <td>H4C12</td>\n",
       "      <td>26.035134</td>\n",
       "      <td>12.225548</td>\n",
       "      <td>0.611394</td>\n",
       "      <td>19.996174</td>\n",
       "      <td>5.946264e-89</td>\n",
       "      <td>7.277483e-86</td>\n",
       "    </tr>\n",
       "  </tbody>\n",
       "</table>\n",
       "</div>"
      ],
      "text/plain": [
       "   gene_id gene_symbol    baseMean  log2FoldChange     lfcSE       stat  \\\n",
       "0   677767     SCARNA7  210.144719       13.371022  0.687271  19.455245   \n",
       "1   692148    SCARNA10  373.274780       13.213866  0.644258  20.510219   \n",
       "2   160419    C12orf50   45.452131       12.696482  0.709369  17.898287   \n",
       "3     6144       RPL21  323.541603       12.303302  0.435228  28.268630   \n",
       "4     8362       H4C12   26.035134       12.225548  0.611394  19.996174   \n",
       "\n",
       "          pvalue           padj  \n",
       "0   2.630926e-84   2.862155e-81  \n",
       "1   1.745079e-93   2.835368e-90  \n",
       "2   1.216051e-71   6.435866e-69  \n",
       "3  8.401888e-176  8.226288e-172  \n",
       "4   5.946264e-89   7.277483e-86  "
      ]
     },
     "execution_count": 2,
     "metadata": {},
     "output_type": "execute_result"
    }
   ],
   "source": [
    "# Genes in RNAseq from FA SCC tumors\n",
    "# Read genes from a file\n",
    "df_fascc = pd.read_csv(\"FA_SCC_filtered_up_genes.csv\")\n",
    "df_fascc.head()"
   ]
  },
  {
   "cell_type": "code",
   "execution_count": 3,
   "id": "46a5ddc4",
   "metadata": {},
   "outputs": [],
   "source": [
    "# RNAseq genes\n",
    "rnaseq_genes = df_fascc['gene_symbol'].tolist()\n"
   ]
  },
  {
   "cell_type": "code",
   "execution_count": 4,
   "id": "471aef4a",
   "metadata": {},
   "outputs": [
    {
     "data": {
      "text/html": [
       "<div>\n",
       "<style scoped>\n",
       "    .dataframe tbody tr th:only-of-type {\n",
       "        vertical-align: middle;\n",
       "    }\n",
       "\n",
       "    .dataframe tbody tr th {\n",
       "        vertical-align: top;\n",
       "    }\n",
       "\n",
       "    .dataframe thead th {\n",
       "        text-align: right;\n",
       "    }\n",
       "</style>\n",
       "<table border=\"1\" class=\"dataframe\">\n",
       "  <thead>\n",
       "    <tr style=\"text-align: right;\">\n",
       "      <th></th>\n",
       "      <th>Gene</th>\n",
       "      <th>Ensemble ID</th>\n",
       "      <th>Num_Probesets</th>\n",
       "      <th>Codewords</th>\n",
       "      <th>Annotation</th>\n",
       "    </tr>\n",
       "  </thead>\n",
       "  <tbody>\n",
       "    <tr>\n",
       "      <th>0</th>\n",
       "      <td>A2M</td>\n",
       "      <td>ENSG00000175899</td>\n",
       "      <td>2</td>\n",
       "      <td>1</td>\n",
       "      <td>NaN</td>\n",
       "    </tr>\n",
       "    <tr>\n",
       "      <th>1</th>\n",
       "      <td>ACE2</td>\n",
       "      <td>ENSG00000130234</td>\n",
       "      <td>8</td>\n",
       "      <td>1</td>\n",
       "      <td>Hormone Processing</td>\n",
       "    </tr>\n",
       "    <tr>\n",
       "      <th>2</th>\n",
       "      <td>ACTA2</td>\n",
       "      <td>ENSG00000107796</td>\n",
       "      <td>8</td>\n",
       "      <td>1</td>\n",
       "      <td>Stromal Cell</td>\n",
       "    </tr>\n",
       "    <tr>\n",
       "      <th>3</th>\n",
       "      <td>ACTB</td>\n",
       "      <td>ENSG00000075624</td>\n",
       "      <td>2</td>\n",
       "      <td>1</td>\n",
       "      <td>Cytoskeleton</td>\n",
       "    </tr>\n",
       "    <tr>\n",
       "      <th>4</th>\n",
       "      <td>ADAM28</td>\n",
       "      <td>ENSG00000042980</td>\n",
       "      <td>4</td>\n",
       "      <td>1</td>\n",
       "      <td>B cell</td>\n",
       "    </tr>\n",
       "  </tbody>\n",
       "</table>\n",
       "</div>"
      ],
      "text/plain": [
       "     Gene      Ensemble ID  Num_Probesets  Codewords          Annotation\n",
       "0     A2M  ENSG00000175899              2          1                 NaN\n",
       "1    ACE2  ENSG00000130234              8          1  Hormone Processing\n",
       "2   ACTA2  ENSG00000107796              8          1        Stromal Cell\n",
       "3    ACTB  ENSG00000075624              2          1        Cytoskeleton\n",
       "4  ADAM28  ENSG00000042980              4          1              B cell"
      ]
     },
     "execution_count": 4,
     "metadata": {},
     "output_type": "execute_result"
    }
   ],
   "source": [
    "# Xenium genes\n",
    "# Read genes from a file\n",
    "df_xenium = pd.read_csv(\"Xenium_hIO_v1_metadata.csv\")\n",
    "df_xenium.head()"
   ]
  },
  {
   "cell_type": "code",
   "execution_count": 5,
   "id": "0410c0be",
   "metadata": {},
   "outputs": [],
   "source": [
    "xenium_genes = df_xenium['Gene'].tolist()"
   ]
  },
  {
   "cell_type": "code",
   "execution_count": 4,
   "id": "bca1d869",
   "metadata": {},
   "outputs": [
    {
     "name": "stdout",
     "output_type": "stream",
     "text": [
      "14\n"
     ]
    }
   ],
   "source": [
    "# Antibody list\n",
    "genes_ab = [\n",
    "    \"ITGB3\", \"MMP1\", \"MMP2\", \"MMP7\", \"MMP8\", \"MMP11\", \"MMP13\", \"MMP14\",\n",
    "    \"MMP17\", \"MMP19\", \"MMP28\", \"TIMP3\", \"COL1A1\", \"FN1\"\n",
    "]\n",
    "\n",
    "print(len(genes_ab))  # 14 genes"
   ]
  },
  {
   "cell_type": "code",
   "execution_count": 6,
   "id": "ef8e2d0a",
   "metadata": {},
   "outputs": [
    {
     "name": "stdout",
     "output_type": "stream",
     "text": [
      "10\n"
     ]
    }
   ],
   "source": [
    "# Protein list \n",
    "proteins = [\n",
    "    \"TIMP1\",\"COL1A1\",\"FAP1\",\"FN1\",\"VIM\",\"COL4A1\",\"MMP9\",\"PANCK\",\"TNC\",\"ACTA2\"\n",
    "]\n",
    "print(len(proteins))  # 10 proteins"
   ]
  },
  {
   "cell_type": "code",
   "execution_count": 7,
   "id": "6ff64b2d",
   "metadata": {},
   "outputs": [
    {
     "data": {
      "image/png": "[encoded data removed]",
      "text/plain": [
       "<Figure size 800x800 with 1 Axes>"
      ]
     },
     "metadata": {},
     "output_type": "display_data"
    }
   ],
   "source": [
    "# Make list to contains \n",
    "set1 = set(xenium_genes)\n",
    "set2 = set(rnaseq_genes)\n",
    "set3 = set(proteins)\n",
    "\n",
    "# PLot Venn diagram\n",
    "plt.figure(figsize=(8,8))\n",
    "venn3([set1, set2, set3], set_labels=('Genes Xenium', 'Genes RNA-seq', 'Proteins'), alpha=0.5)\n",
    "\n",
    "# Show plot\n",
    "#plt.title(\"Intersection of genes between the two methodologies and antibodies\")\n",
    "plt.show()"
   ]
  },
  {
   "cell_type": "code",
   "execution_count": null,
   "id": "54807f03",
   "metadata": {},
   "outputs": [
    {
     "name": "stdout",
     "output_type": "stream",
     "text": [
      "Intersection between Xenium and RNA-seq: {'IFIT2', 'PTEN', 'IL1A', 'KRAS', 'BRAF', 'ORC6', 'CDK12', 'IL10', 'VEGFA', 'MKI67', 'KLRD1', 'CCL16', 'CXCL3', 'CENPF', 'CD274', 'NF1', 'IL1R1', 'MIS18BP1', 'ITGA1', 'MGP', 'IL13RA2', 'NT5E', 'AREG', 'VCAN', 'FAS', 'ATM', 'IL7R', 'CDK6', 'FGF2', 'KMT2C', 'EGFR', 'CXCL2', 'IL1B', 'CEACAM8', 'HIF1A', 'CDK1', 'PIK3CA', 'MET', 'NOTCH2'}\n",
      "Intersection between Xenium and Proteins: {'MMP9', 'ACTA2', 'FN1'}\n",
      "Intersection between RNA-seq and Proteins: set()\n",
      "Intersection between the three sets: set()\n"
     ]
    }
   ],
   "source": [
    "# Print intersections\n",
    "print(\"Intersection between Xenium and RNA-seq:\", set1.intersection(set2))\n",
    "print(\"Intersection between Xenium and Proteins:\", set1.intersection(set3))\n",
    "print(\"Intersection between RNA-seq and Proteins:\", set2.intersection(set3))\n",
    "print(\"Intersection between the three sets:\", set1.intersection(set2).intersection(set3))\n"
   ]
  },
  {
   "cell_type": "code",
   "execution_count": 18,
   "id": "5b5fbb03",
   "metadata": {},
   "outputs": [
    {
     "name": "stdout",
     "output_type": "stream",
     "text": [
      "Intersections saved to gene_intersections.txt\n"
     ]
    }
   ],
   "source": [
    "# Save a file with the intersection genes for each pair and the three sets in one file\n",
    "# and print a number of genes in each intersection\n",
    "with open(\"gene_intersections.txt\", \"w\") as f:\n",
    "    f.write(\"Intersection between Xenium and RNA-seq:\\n\")\n",
    "    f.write(f\"Number of genes in intersection: {len(set1.intersection(set2))}\\n\")\n",
    "    f.write(\", \".join(set1.intersection(set2)) + \"\\n\\n\")\n",
    "    \n",
    "    \n",
    "    f.write(\"Intersection between Xenium and Proteins:\\n\")\n",
    "    f.write(f\"Number of genes in intersection: {len(set1.intersection(set3))}\\n\")\n",
    "    f.write(\", \".join(set1.intersection(set3)) + \"\\n\\n\")\n",
    "    \n",
    "    \n",
    "    f.write(\"Intersection between RNA-seq and Proteins:\\n\")\n",
    "    f.write(f\"Number of genes in intersection: {len(set2.intersection(set3))}\\n\")\n",
    "    f.write(\", \".join(set2.intersection(set3)) + \"\\n\\n\")\n",
    "    \n",
    "    \n",
    "    f.write(\"Intersection between the three sets:\\n\")\n",
    "    f.write(f\"Number of genes in intersection: {len(set1.intersection(set2).intersection(set3))}\\n\")\n",
    "    f.write(\", \".join(set1.intersection(set2).intersection(set3)) + \"\\n\")\n",
    "    \n",
    "\n",
    "print(\"Intersections saved to gene_intersections.txt\")"
   ]
  },
  {
   "cell_type": "markdown",
   "id": "e2ae16e7",
   "metadata": {},
   "source": [
    "Session Info:"
   ]
  },
  {
   "cell_type": "code",
   "execution_count": 10,
   "id": "40952982",
   "metadata": {},
   "outputs": [
    {
     "name": "stdout",
     "output_type": "stream",
     "text": [
      "Python 3.12.1\n"
     ]
    }
   ],
   "source": [
    "# Información de la sesión\n",
    "!python --version"
   ]
  },
  {
   "cell_type": "code",
   "execution_count": 11,
   "id": "50743f46",
   "metadata": {},
   "outputs": [
    {
     "name": "stdout",
     "output_type": "stream",
     "text": [
      "Package                   Version\n",
      "------------------------- ---------\n",
      "adjustText                1.0.4\n",
      "asttokens                 2.4.1\n",
      "attrs                     25.3.0\n",
      "certifi                   2025.4.26\n",
      "charset-normalizer        3.4.2\n",
      "colorama                  0.4.6\n",
      "comm                      0.2.2\n",
      "contourpy                 1.2.0\n",
      "cycler                    0.12.1\n",
      "debugpy                   1.8.2\n",
      "decorator                 5.1.1\n",
      "docopt                    0.6.2\n",
      "et_xmlfile                2.0.0\n",
      "executing                 2.0.1\n",
      "fastjsonschema            2.21.1\n",
      "fonttools                 4.47.2\n",
      "ftpretty                  0.4.0\n",
      "goatools                  1.4.12\n",
      "gseapy                    1.1.8\n",
      "idna                      3.10\n",
      "ipykernel                 6.29.5\n",
      "ipython                   8.26.0\n",
      "jedi                      0.19.1\n",
      "joblib                    1.4.2\n",
      "jsonschema                4.23.0\n",
      "jsonschema-specifications 2025.4.1\n",
      "jupyter_client            8.6.2\n",
      "jupyter_core              5.7.2\n",
      "kiwisolver                1.4.5\n",
      "kneed                     0.8.5\n",
      "llvmlite                  0.44.0\n",
      "markdown-it-py            4.0.0\n",
      "matplotlib                3.8.2\n",
      "matplotlib-inline         0.1.7\n",
      "matplotlib-venn           1.1.1\n",
      "mdurl                     0.1.2\n",
      "narwhals                  1.39.1\n",
      "nbformat                  5.10.4\n",
      "nest-asyncio              1.6.0\n",
      "networkx                  3.4.2\n",
      "numba                     0.61.2\n",
      "numpy                     1.26.3\n",
      "openpyxl                  3.1.5\n",
      "packaging                 23.2\n",
      "pandas                    2.2.2\n",
      "parso                     0.8.4\n",
      "patsy                     1.0.1\n",
      "pillow                    10.2.0\n",
      "pip                       23.2.1\n",
      "platformdirs              4.2.2\n",
      "plotly                    6.1.0\n",
      "prompt_toolkit            3.0.47\n",
      "psutil                    6.0.0\n",
      "pure-eval                 0.2.2\n",
      "pydot                     4.0.1\n",
      "Pygments                  2.18.0\n",
      "pynndescent               0.5.13\n",
      "pyparsing                 3.1.1\n",
      "python-dateutil           2.8.2\n",
      "python-louvain            0.16\n",
      "pytz                      2024.1\n",
      "pywin32                   306\n",
      "pyzmq                     26.0.3\n",
      "referencing               0.36.2\n",
      "requests                  2.32.3\n",
      "rich                      14.1.0\n",
      "rpds-py                   0.25.0\n",
      "scikit-learn              1.5.2\n",
      "scipy                     1.12.0\n",
      "seaborn                   0.13.2\n",
      "setuptools                80.9.0\n",
      "six                       1.16.0\n",
      "stack-data                0.6.3\n",
      "statsmodels               0.14.5\n",
      "threadpoolctl             3.5.0\n",
      "tornado                   6.4.1\n",
      "tqdm                      4.67.1\n",
      "traitlets                 5.14.3\n",
      "typing_extensions         4.13.2\n",
      "tzdata                    2024.1\n",
      "umap-learn                0.5.7\n",
      "urllib3                   2.4.0\n",
      "wcwidth                   0.2.13\n",
      "xlsxwriter                3.2.5\n"
     ]
    },
    {
     "name": "stderr",
     "output_type": "stream",
     "text": [
      "\n",
      "[notice] A new release of pip is available: 23.2.1 -> 25.2\n",
      "[notice] To update, run: python.exe -m pip install --upgrade pip\n"
     ]
    }
   ],
   "source": [
    "!pip list"
   ]
  }
 ],
 "metadata": {
  "kernelspec": {
   "display_name": "Python 3",
   "language": "python",
   "name": "python3"
  },
  "language_info": {
   "codemirror_mode": {
    "name": "ipython",
    "version": 3
   },
   "file_extension": ".py",
   "mimetype": "text/x-python",
   "name": "python",
   "nbconvert_exporter": "python",
   "pygments_lexer": "ipython3",
   "version": "3.12.1"
  }
 },
 "nbformat": 4,
 "nbformat_minor": 5
}
