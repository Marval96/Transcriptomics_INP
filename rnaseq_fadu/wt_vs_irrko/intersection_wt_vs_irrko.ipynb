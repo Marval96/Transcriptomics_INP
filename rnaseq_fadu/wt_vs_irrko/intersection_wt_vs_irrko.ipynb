{
 "cells": [
  {
   "cell_type": "markdown",
   "id": "390b92a1",
   "metadata": {},
   "source": [
    "# **Análsiis de intersección** \n",
    "\n",
    "Este notebook contiene en el código necesario para identificar los genes en común entre los genes enriquecidos en **neo-loops**, los genes diferencialmente expresados en la línea célular **FaDu sometida a radioterapía** y el listado de **anticuerpos** disponible."
   ]
  },
  {
   "cell_type": "code",
   "execution_count": 2,
   "id": "59bfd378",
   "metadata": {},
   "outputs": [],
   "source": [
    "# Librerías para el análisis de intersección de listas (Diagrama de Venn)\n",
    "import matplotlib.pyplot as plt\n",
    "from matplotlib_venn import venn2 \n",
    "from matplotlib_venn import venn3"
   ]
  },
  {
   "cell_type": "code",
   "execution_count": 3,
   "id": "798cbbeb",
   "metadata": {},
   "outputs": [],
   "source": [
    "# Procesos y genes de los neo-loops\n",
    "\n",
    "collagen_trimerization = [\"COL11A1\", \"COL16A1\", \"COL1A1\", \"COL12A1\", \"COL9A1\", \"COL21A1\", \"COL5A1\", \"COL4A2\", \"COL2A1\", \"COL6A1\", \"COL6A2\", \"COL8A1\", \n",
    "                          \"COL26A1\", \"COL18A1\", \"COL4A1\", \"COL14A1\"]\n",
    "\n",
    "cornified = [\"PRSS8\", \"DSP\", \"CSTA\", \"SPINK5\", \"PCSK6\", \"PKP4\", \"LCE2B\", \"SPRR2G\", \"IVL\", \"SPRR3\", \"SPRR2D\", \"KRT1\", \"KRT24\", \"SPRR1B\", \"SPRR1A\", \n",
    "             \"KRT78\", \"KRT4\", \"KRT72\", \"KRT27\", \"LCE1D\", \"KRT2\", \"KRT76\", \"KRT79\", \"KRT73\", \"LCE1E\", \"KRT26\", \"KRT3\", \"LCE1A\", \"LCE4A\", \"LCE2A\", \n",
    "             \"LCE2C\", \"LCE2D\", \"KRT77\", \"LCE1B\", \"SPRR2B\", \"LCE1C\", \"LORICRIN\", \"LELP1\", \"SPRR2E\", \"KRT25\", \"LCE6A\", \"LCE1F\", \"SPRR2A\", \"SPRR2F\"]\n",
    "\n",
    "collagen_enzymes = [\"TLL1\", \"COL11A1\", \"COL16A1\", \"P3H2\", \"COL1A1\", \"COL12A1\", \"COL9A1\", \"COL21A1\", \"COL5A1\", \"COL4A2\", \n",
    "                    \"ADAMTS14\", \"COL2A1\", \"COL6A1\", \"COL6A2\", \"COL8A1\", \"COL26A1\", \"PCOLCE2\", \"COL18A1\", \"COL4A1\", \"COL14A1\"]\n",
    "\n",
    "keratinization = [\"PRSS8\", \"DSP\", \"CSTA\", \"SPINK5\", \"PCSK6\", \"PKP4\", \"LCE2B\", \"SPRR2G\", \"IVL\", \"SPRR3\", \"SPRR2D\", \"KRT1\", \"KRT24\", \"SPRR1B\", \"SPRR1A\", \"KRT78\", \"KRT4\", \"KRT72\", \"KRT27\", \"LCE1D\", \"KRT2\", \n",
    "                  \"KRT76\", \"KRT79\", \"KRT73\", \"LCE1E\", \"KRT26\", \"KRT3\", \"LCE1A\", \"LCE4A\", \"LCE2A\", \"KRTAP12-1\", \"LCE2C\", \"LCE2D\", \"KRTAP10-8\", \"KRTAP10-6\", \"KRTAP10-12\", \"KRT77\", \"LCE1B\", \"SPRR2B\", \n",
    "                  \"LCE1C\", \"LORICRIN\", \"LELP1\", \"SPRR2E\", \"KRT25\", \"KRTAP12-3\", \"KRTAP10-2\", \"KRTAP12-4\", \"KRTAP10-3\", \"KRTAP10-4\", \"KRTAP10-1\", \"KRTAP10-9\", \"KRTAP10-10\", \"KRTAP12-2\", \n",
    "                  \"LCE6A\", \"LCE1F\", \"KRTAP10-5\", \"SPRR2A\", \"KRTAP10-11\", \"SPRR2F\", \"KRTAP10-7\"]\n",
    "\n"
   ]
  },
  {
   "cell_type": "code",
   "execution_count": 4,
   "id": "36cbb2c3",
   "metadata": {},
   "outputs": [
    {
     "name": "stdout",
     "output_type": "stream",
     "text": [
      "Número de genes por listado:\n",
      "Collagen trimerization: 16\n",
      "Cornified envelope: 44\n",
      "Collagen catabolic enzymes: 20\n",
      "Keratinization: 60\n"
     ]
    }
   ],
   "source": [
    "# Nu+úmero de genes por listado\n",
    "print(\"Número de genes por listado:\")\n",
    "print(\"Collagen trimerization:\", len(collagen_trimerization))\n",
    "print(\"Cornified envelope:\", len(cornified))        \n",
    "print(\"Collagen catabolic enzymes:\", len(collagen_enzymes))\n",
    "print(\"Keratinization:\", len(keratinization))"
   ]
  },
  {
   "cell_type": "code",
   "execution_count": 5,
   "id": "81d952c9",
   "metadata": {},
   "outputs": [
    {
     "name": "stdout",
     "output_type": "stream",
     "text": [
      "Número de genes únicos en Neo-loops: 80\n"
     ]
    }
   ],
   "source": [
    "# Unir todas las listas de genes en una sola y eliminar duplicados\n",
    "genes_neoloops = list(set(collagen_trimerization + cornified + collagen_enzymes + keratinization))\n",
    "set1 = set(genes_neoloops)\n",
    "print(f\"Número de genes únicos en Neo-loops: {len(genes_neoloops)}\")"
   ]
  },
  {
   "cell_type": "code",
   "execution_count": 6,
   "id": "d000c792",
   "metadata": {},
   "outputs": [
    {
     "name": "stdout",
     "output_type": "stream",
     "text": [
      "284\n"
     ]
    }
   ],
   "source": [
    "# Genes del transcriptoma IrrWT vs Control FaDu\n",
    "genes_rnaseq_irrwt = [\n",
    "    \"FNDC7\", \"IL1R2\", \"AMPD1\", \"STC1\", \"LOC101928841\", \"ABCC9\", \"LINC01537\", \"CXCL11\", \n",
    "    \"IL6\", \"TG\", \"SPRY4\", \"ASB2\", \"FES\", \"SPRR1A\", \"ANPEP\", \"ALPL\", \"TRPV3\", \"IL1RL1\", \n",
    "    \"DOC2B\", \"LCK\", \"LOC105371926\", \"EGR4\", \"APLN\", \"IGFL1\", \"PDCD1LG2\", \"CDH11\", \n",
    "    \"CYTH4\", \"NKD2\", \"KRT75\", \"ADRA1B\", \"LOC105370624\", \"NT5E\", \"CNGB1\", \"CYP24A1\", \n",
    "    \"CLDN3\", \"DTNA\", \"LAPTM5\", \"NCF2\", \"SEMA7A\", \"MMP1\", \"PGF\", \"LOC107986649\", \"LIF\", \n",
    "    \"SLC12A7\", \"MAP1B\", \"MMP10\", \"WTAPP1\", \"SCN5A\", \"IL24\", \"CXCL8\", \"RYR2\", \"DUSP6\", \n",
    "    \"HRH2\", \"CEACAM1\", \"KIF1A\", \"BEAN1\", \"CPNE5\", \"TMEM92\", \"LIF-AS2\", \"MATN3\", \"MUC2\", \n",
    "    \"DUSP1\", \"CAPN5\", \"ODC1\", \"KRT81\", \"LOC105371912\", \"RIPOR3\", \"CD163L1\", \"SPRED3\", \n",
    "    \"NHSL2\", \"CST6\", \"FLVCR2\", \"PCDH19\", \"SAP30L-AS1\", \"SHISA2\", \"LOC105378230\", \"FN1\", \n",
    "    \"RTL5\", \"IRAK2\", \"ITGA7\", \"ELFN2\", \"C9orf47\", \"DOCK4\", \"TRIML2\", \"HSH2D\", \"INHBA\", \n",
    "    \"CATSPER1\", \"MERTK\", \"IL11\", \"ADAM8\", \"KIAA1549L\", \"CCL22\", \"PLEKHG4B\", \"MYEOV\", \n",
    "    \"DPF3\", \"TH\", \"DUSP8\", \"RASSF2\", \"SLC22A4\", \"PLAUR\", \"SNAI1\", \"DUSP5\", \"MMP2\", \n",
    "    \"NEURL1\", \"IFI27\", \"STMN3\", \"CCN3\", \"ISG20\", \"UFSP1\", \"NFATC2\", \"LBH\", \"RAB3B\", \n",
    "    \"OTUB2\", \"KRT7\", \"HES6\", \"ADAM12\", \"LINC00941\", \"KCNQ4\", \"LOC101927245\", \"KRT7-AS\", \n",
    "    \"NPY1R\", \"MAP1A\", \"PLK3\", \"DAPP1\", \"FST\", \"KIF5C\", \"CARMIL2\", \"DCLK1\", \"MIG7\", \n",
    "    \"GRK5\", \"LTB\", \"CD24\", \"SPRR1B\", \"NES\", \"CCDC74A\", \"CCN2\", \"CLSTN2\", \"TCN2\", \"MX1\", \n",
    "    \"PRR5L\", \"IFI6\", \"PADI1\", \"KRT16P2\", \"COL8A1\", \"MCF2L\", \"APLP1\", \"ITGA2\", \"RPLP0P2\", \n",
    "    \"OAS2\", \"CDKN1A\", \"BRSK2\", \"KRT87P\", \"TENT5C\", \"DUSP4\", \"SLC5A4-AS1\", \"PARM1\", \n",
    "    \"TMEM158\", \"SPOCK1\", \"SLIT2\", \"PIK3AP1\", \"SCN3A\", \"ARHGAP31\", \"RAB6B\", \"MX2\", \n",
    "    \"HPCAL1\", \"PHLDA1\", \"LOC102723480\", \"ADAM19\", \"CEMIP\", \"LIPH\", \"ADAMTS17\", \"GNAT2\", \n",
    "    \"ETV5\", \"PTGS2\", \"DLX1\", \"PLCB4\", \"DNAJC22\", \"RSAD2\", \"IER3\", \"RIGI\", \"IL7R\", \n",
    "    \"CYSRT1\", \"SOX9\", \"TEX14\", \"LETM2\", \"GPR68\", \"TTLL13\", \"MGLL\", \"HBEGF\", \"MYRF\", \n",
    "    \"C2CD4D-AS1\", \"IER3-AS1\", \"GPSM3\", \"TRIM36\", \"CYP26A1\", \"PDGFB\", \"COL5A3\", \"FZD8\", \n",
    "    \"UNC79\", \"EVA1A\", \"CEMIP2\", \"N4BP3\", \"TMEM63C\", \"NOCT\", \"DISP2\", \"GPR50\", \"NPTX1\", \n",
    "    \"PDE10A\", \"HAP1\", \"TNFRSF9\", \"RNASE7\", \"DLC1\", \"IFIT2\", \"PRSS27\", \"PRLR\", \n",
    "    \"LOC105371553\", \"APBB1\", \"MMP12\", \"LOC105370364\", \"SERPINA1\", \"GAS7\", \"GABRQ\", \n",
    "    \"HPCAL4\", \"S1PR3\", \"JAK3\", \"PRDM16\", \"FCMR\", \"MSLN\", \"LIMD2\", \"RASL11A\", \"GJB2\", \n",
    "    \"ISG15\", \"LINC01348\", \"TAFA3\", \"CNTNAP1\", \"LOC105369370\", \"ABLIM1\", \"CLTRN\", \n",
    "    \"TNFAIP3\", \"FLI1\", \"SPHK1\", \"CD55\", \"PXDN\", \"PPM1K\", \"FOSB\", \"CD83\", \"ITPR1\", \n",
    "    \"TMEM198\", \"ATF3\", \"NPR1\", \"SEC14L4\", \"VCAN\", \"LINC00680\", \"FOSL1\", \"SPRY2\", \n",
    "    \"B3GNT3\", \"EGR3\", \"CSRNP1\", \"BNIP3\", \"LOC107987300\", \"ENTPD2\", \"CCND2-AS1\", \n",
    "    \"PTGER4\", \"LTBP2\", \"SMPD1\", \"GPRC5B\", \"ABCD1\", \"PPP2R5B\", \"PPM1M\", \"CLDN9\", \n",
    "    \"SLCO4A1-AS1\", \"TIMP3\", \"IFIT1\", \"RPE65\", \"VEGFC\", \"GPR3\", \"HELZ2\", \"MALL\", \n",
    "    \"MMP13\", \"SRCIN1\", \"FSIP1\", \"PMAIP1\", \"EPHA4\", \"TNFSF15\"\n",
    "]\n",
    "\n",
    "# Tamaño del transcriptoma IrrWT vs Control FaDu\n",
    "print(len(genes_rnaseq_irrwt))  # 284 genes \n"
   ]
  },
  {
   "cell_type": "code",
   "execution_count": 6,
   "id": "83078492",
   "metadata": {},
   "outputs": [
    {
     "name": "stdout",
     "output_type": "stream",
     "text": [
      "216\n"
     ]
    }
   ],
   "source": [
    "genes_rnaseq_irrko = [\"IL1R2\", \"MMP10\", \"TCHHL1\", \"IGFL1\", \"SPRR1A\", \"ASB2\", \"IL1RL1\", \"WTAPP1\", \"MMP1\", \"ANPEP\", \"STC1\", \"MMP12\", \"ALPL\", \n",
    "                      \"SPRY4\", \"MMP13\", \"PADI1\", \"CDH11\", \"IGFL2\", \"LGSN\", \"IGFL2-AS1\", \"KRT32\", \"LOC105370624\", \"CNGB1\", \"SPRR1B\", \"SERPINB7\", \n",
    "                      \"HRNR\", \"PCDH19\", \"SHISA2\", \"P2RX2\", \"LOC107986649\", \"EN1\", \"KRT81\", \"IQGAP2\", \"CLDN3\", \"RASSF2\", \"RPLP0P2\", \"ODC1\", \"SLC12A7\", \n",
    "                      \"RIPOR3\", \"CYTH4\", \"CD24\", \"SYTL2\", \"KRT23\", \"KCNMA1\", \"CXCL8\", \"CST6\", \"TRPV3\", \"LINC01348\", \"MALL\", \"MERTK\", \"ADAMTS17\", \"PADI2\", \n",
    "                      \"KRT75\", \"MAP1B\", \"CLSTN2\", \"CYP26A1\", \"MSLN\", \"CEMIP\", \"FLG\", \"TENT5C\", \"FRY\", \"IL1R1\", \"FLVCR2\", \"ITGAM\", \"OTUB2\", \"LOC105374325\", \n",
    "                      \"FST\", \"FLG-AS1\", \"GRHL3\", \"LOC105377675\", \"TOX2\", \"SPRED3\", \"KRT87P\", \"RAB3B\", \"GNAT2\", \"DUSP6\", \"CATSPER1\", \"PCDH10\", \"CAMK2A\", \"DPF3\",\n",
    "                        \"UPK2\", \"LTB\", \"EFEMP2\", \"KIAA1549L\", \"NPY1R\", \"CCN2\", \"ATP8A2\", \"NFATC2\", \"SLC22A4\", \"FOSB\", \"CDH5\", \"NEFM\", \"LBH\", \"SUSD5\", \"PXDN\", \n",
    "                        \"SEMA7A\", \"GPRC5B\", \"HECW2\", \"LIF\", \"C2orf16\", \"MMP2\", \"PADI4\", \"SMPD1\", \"MYRF\", \"UNC5A\", \"DOCK4\", \"LTBP2\", \"LASTR\", \"GJB2\", \"CARMIL2\",\n",
    "                          \"SH3TC2\", \"GARIN1A\", \"LOC105375784\", \"KRT7\", \"NES\", \"SAMD5\", \"ADAM12\", \"MUC2\", \"CAPN5\", \"CALML3-AS1\", \"CYP24A1\", \"PGBD5\", \"GDPD3\", \"UNC79\",\n",
    "                            \"ECM1\", \"SLIT2\", \"CEMIP2\", \"CLIC3\", \"SMAD6\", \"SLC9A3-AS1\", \"ADAMTSL3\", \"MITF\", \"PRSS27\", \"LAPTM5\", \"REEP1\", \"SPDYE6\", \"LOX\", \n",
    "                            \"LOC107987300\", \"CXCL1\", \"S100A9\", \"EGR3\", \"MN1\", \"KSR2\", \"CCDC183-AS1\", \"VGLL1\", \"FLJ42969\", \"MUC6\", \"ALPK3\", \"TUFT1\", \"SLC25A45\",\n",
    "                              \"GADD45B\", \"CXCR2\", \"TTLL13\", \"ELFN2\", \"GRK5\", \"MUC16\", \"PARM1\", \"STEAP4\", \"DUSP5\", \"GRIK5\", \"FGD3\", \"CYSRT1\", \"DCLK1\", \"KRT7-AS\",\n",
    "                                \"PRKXP1\", \"SERPINI1\", \"CD83\", \"SERPINA3\", \"REEP2\", \"KRT16\", \"HPCAL1\", \"LOC101927245\", \"NT5E\", \"BTNL9\", \"ADAM19\", \"NANOS1\", \"DUSP4\",\n",
    "                                  \"SYT16\", \"SAXO2\", \"NR2E1\", \"KRT18\", \"PHYHIPL\", \"PPM1M\", \"PLAT\", \"PLEKHG4B\", \"HPCAL4\", \"MCF2L\", \"KCNJ15\", \"HES6\", \"CDH2\", \"NPTXR\", \n",
    "                                  \"RAP1GAP\", \"ZC2HC1C\", \"PAG1\", \"NEFL\", \"LINC00941\", \"CPA4\", \"ARHGAP31\", \"VWF\", \"IRAK2\", \"PJVK\", \"RHOU\", \"STOX1\", \"SPDYE2\", \"TMEM125\", \n",
    "                                  \"NEB\", \"FCMR\", \"NKX1-2\", \"CNTNAP1\", \"IER3\", \"B4GALT6\", \"IER3-AS1\", \"DLC1\", \"CCBE1\", \"GRAMD1B\", \"PLK3\"]\n",
    "\n",
    "# Tamaño del transcriptoma IrrKO vs Control FaDu\n",
    "print(len(genes_rnaseq_irrko))  # 216 genes"
   ]
  },
  {
   "cell_type": "code",
   "execution_count": 7,
   "id": "bca1d869",
   "metadata": {},
   "outputs": [
    {
     "name": "stdout",
     "output_type": "stream",
     "text": [
      "14\n"
     ]
    }
   ],
   "source": [
    "# Genes del listado dado de anticuerpos\n",
    "genes_ab = [\n",
    "    \"ITGB3\", \"MMP1\", \"MMP2\", \"MMP7\", \"MMP8\", \"MMP11\", \"MMP13\", \"MMP14\",\n",
    "    \"MMP17\", \"MMP19\", \"MMP28\", \"TIMP3\", \"COL1A1\", \"FN1\"\n",
    "]\n",
    "\n",
    "print(len(genes_ab))  # 14 genes"
   ]
  },
  {
   "cell_type": "code",
   "execution_count": 8,
   "id": "6ff64b2d",
   "metadata": {},
   "outputs": [
    {
     "data": {
      "image/png": "[encoded data removed]",
      "text/plain": [
       "<Figure size 800x800 with 1 Axes>"
      ]
     },
     "metadata": {},
     "output_type": "display_data"
    }
   ],
   "source": [
    "# Convertimos las listas a conjuntos para poder calcular intersecciones\n",
    "set1 = set(genes_neoloops)\n",
    "set2 = set(genes_rnaseq_irrko)\n",
    "set3 = set(genes_ab)\n",
    "\n",
    "# Crear diagrama de Venn\n",
    "plt.figure(figsize=(8,8))\n",
    "venn3([set1, set2, set3], set_labels=('Genes Neo-loops', 'Genes RNA-seq', 'Anticuerpos'))\n",
    "\n",
    "# Mostrar diagrama\n",
    "plt.title(\"Intersección de genes entre las dos metodologías y anticuerpos\")\n",
    "plt.show()"
   ]
  },
  {
   "cell_type": "code",
   "execution_count": 23,
   "id": "54807f03",
   "metadata": {},
   "outputs": [
    {
     "name": "stdout",
     "output_type": "stream",
     "text": [
      "Intersección entre Neo-loops y RNA-seq: {'SPRR1A', 'SPRR1B'}\n",
      "Intersección entre Neo-loops y Anticuerpos: {'COL1A1'}\n",
      "Intersección entre RNA-seq y Anticuerpos: {'MMP1', 'MMP2', 'MMP13'}\n",
      "Intersección entre los tres conjuntos: set()\n"
     ]
    }
   ],
   "source": [
    "# Imprimir las intersecciones\n",
    "print(\"Intersección entre Neo-loops y RNA-seq:\", set1.intersection(set2))\n",
    "print(\"Intersección entre Neo-loops y Anticuerpos:\", set1.intersection(set3))\n",
    "print(\"Intersección entre RNA-seq y Anticuerpos:\", set2.intersection(set3))\n",
    "print(\"Intersección entre los tres conjuntos:\", set1.intersection(set2).intersection(set3))\n"
   ]
  },
  {
   "cell_type": "markdown",
   "id": "e2ae16e7",
   "metadata": {},
   "source": [
    "Informacíon de la sesión:"
   ]
  },
  {
   "cell_type": "code",
   "execution_count": 9,
   "id": "40952982",
   "metadata": {},
   "outputs": [
    {
     "name": "stdout",
     "output_type": "stream",
     "text": [
      "Python 3.12.1\n"
     ]
    }
   ],
   "source": [
    "# Información de la sesión\n",
    "!python --version"
   ]
  },
  {
   "cell_type": "code",
   "execution_count": 10,
   "id": "50743f46",
   "metadata": {},
   "outputs": [
    {
     "name": "stdout",
     "output_type": "stream",
     "text": [
      "Package                   Version\n",
      "------------------------- ---------\n",
      "adjustText                1.0.4\n",
      "asttokens                 2.4.1\n",
      "attrs                     25.3.0\n",
      "certifi                   2025.4.26\n",
      "charset-normalizer        3.4.2\n",
      "colorama                  0.4.6\n",
      "comm                      0.2.2\n",
      "contourpy                 1.2.0\n",
      "cycler                    0.12.1\n",
      "debugpy                   1.8.2\n",
      "decorator                 5.1.1\n",
      "docopt                    0.6.2\n",
      "et_xmlfile                2.0.0\n",
      "executing                 2.0.1\n",
      "fastjsonschema            2.21.1\n",
      "fonttools                 4.47.2\n",
      "ftpretty                  0.4.0\n",
      "goatools                  1.4.12\n",
      "gseapy                    1.1.8\n",
      "idna                      3.10\n",
      "ipykernel                 6.29.5\n",
      "ipython                   8.26.0\n",
      "jedi                      0.19.1\n",
      "joblib                    1.4.2\n",
      "jsonschema                4.23.0\n",
      "jsonschema-specifications 2025.4.1\n",
      "jupyter_client            8.6.2\n",
      "jupyter_core              5.7.2\n",
      "kiwisolver                1.4.5\n",
      "kneed                     0.8.5\n",
      "llvmlite                  0.44.0\n",
      "markdown-it-py            4.0.0\n",
      "matplotlib                3.8.2\n",
      "matplotlib-inline         0.1.7\n",
      "matplotlib-venn           1.1.1\n",
      "mdurl                     0.1.2\n",
      "narwhals                  1.39.1\n",
      "nbformat                  5.10.4\n",
      "nest-asyncio              1.6.0\n",
      "networkx                  3.4.2\n",
      "numba                     0.61.2\n",
      "numpy                     1.26.3\n",
      "openpyxl                  3.1.5\n",
      "packaging                 23.2\n",
      "pandas                    2.2.2\n",
      "parso                     0.8.4\n",
      "patsy                     1.0.1\n",
      "pillow                    10.2.0\n",
      "pip                       23.2.1\n",
      "platformdirs              4.2.2\n",
      "plotly                    6.1.0\n",
      "prompt_toolkit            3.0.47\n",
      "psutil                    6.0.0\n",
      "pure-eval                 0.2.2\n",
      "pydot                     4.0.1\n",
      "Pygments                  2.18.0\n",
      "pynndescent               0.5.13\n",
      "pyparsing                 3.1.1\n",
      "python-dateutil           2.8.2\n",
      "python-louvain            0.16\n",
      "pytz                      2024.1\n",
      "pywin32                   306\n",
      "pyzmq                     26.0.3\n",
      "referencing               0.36.2\n",
      "requests                  2.32.3\n",
      "rich                      14.1.0\n",
      "rpds-py                   0.25.0\n",
      "scikit-learn              1.5.2\n",
      "scipy                     1.12.0\n",
      "seaborn                   0.13.2\n",
      "setuptools                80.9.0\n",
      "six                       1.16.0\n",
      "stack-data                0.6.3\n",
      "statsmodels               0.14.5\n",
      "threadpoolctl             3.5.0\n",
      "tornado                   6.4.1\n",
      "tqdm                      4.67.1\n",
      "traitlets                 5.14.3\n",
      "typing_extensions         4.13.2\n",
      "tzdata                    2024.1\n",
      "umap-learn                0.5.7\n",
      "urllib3                   2.4.0\n",
      "wcwidth                   0.2.13\n",
      "xlsxwriter                3.2.5\n"
     ]
    },
    {
     "name": "stderr",
     "output_type": "stream",
     "text": [
      "\n",
      "[notice] A new release of pip is available: 23.2.1 -> 25.2\n",
      "[notice] To update, run: python.exe -m pip install --upgrade pip\n"
     ]
    }
   ],
   "source": [
    "!pip list"
   ]
  }
 ],
 "metadata": {
  "kernelspec": {
   "display_name": "Python 3",
   "language": "python",
   "name": "python3"
  },
  "language_info": {
   "codemirror_mode": {
    "name": "ipython",
    "version": 3
   },
   "file_extension": ".py",
   "mimetype": "text/x-python",
   "name": "python",
   "nbconvert_exporter": "python",
   "pygments_lexer": "ipython3",
   "version": "3.12.1"
  }
 },
 "nbformat": 4,
 "nbformat_minor": 5
}
